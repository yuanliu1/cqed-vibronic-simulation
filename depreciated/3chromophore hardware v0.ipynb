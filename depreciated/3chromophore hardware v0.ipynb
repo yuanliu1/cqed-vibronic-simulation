{
 "cells": [
  {
   "cell_type": "markdown",
   "metadata": {},
   "source": [
    "# Hardware-Efficient Simulation of Energy Transfer Dynamics"
   ]
  },
  {
   "cell_type": "markdown",
   "metadata": {},
   "source": [
    "Yuan Liu, 10/21/2022"
   ]
  },
  {
   "cell_type": "code",
   "execution_count": 1,
   "metadata": {
    "collapsed": true
   },
   "outputs": [],
   "source": [
    "# setup the matplotlib graphics library and configure it to show \n",
    "# figures inline in the notebook\n",
    "%matplotlib inline\n",
    "import matplotlib.pyplot as plt\n",
    "import numpy as np\n",
    "from numpy import pi, sqrt\n",
    "import pandas as pd"
   ]
  },
  {
   "cell_type": "code",
   "execution_count": 2,
   "metadata": {
    "collapsed": true
   },
   "outputs": [],
   "source": [
    "# make qutip available in the rest of the notebook\n",
    "from qutip import *"
   ]
  },
  {
   "cell_type": "markdown",
   "metadata": {},
   "source": [
    "\n",
    "## Hamiltonian\n",
    "See the overleaf document for the exact Hamiltonian."
   ]
  },
  {
   "cell_type": "markdown",
   "metadata": {},
   "source": [
    "### Problem parameters\n",
    "\n",
    "\n",
    "Here we use units where $\\hbar = 1$, and I will use $cm^{-1}$ as frequency unit."
   ]
  },
  {
   "cell_type": "code",
   "execution_count": 3,
   "metadata": {
    "collapsed": true
   },
   "outputs": [],
   "source": [
    "omega_ga = 4.95e13\n",
    "omega_ea = 4.63e13\n",
    "omega_gb = 4.98e13\n",
    "omega_eb = 4.62e13\n",
    "omega_gc = 4.92e13\n",
    "omega_ec = 4.65e13\n",
    "omega_l = 6.00e12\n",
    "J_AB_0 = 3.00e12\n",
    "J_AC_0 = 2.70e12\n",
    "eta_AB = -0.1\n",
    "eta_AC = 0.15\n",
    "S_a = 0.005\n",
    "S_b = 0.004\n",
    "S_c = 0.006\n",
    "S_l = 0.05 #tunable\n",
    "gamma_A = 3.15e12\n",
    "gamma_B = 3.15e12\n",
    "gamma_C = 3.15e12\n",
    "\n",
    "\n",
    "omega_a = (omega_ga + omega_ea)/2\n",
    "omega_b = (omega_gb + omega_eb)/2\n",
    "omega_c = (omega_gc + omega_ec)/2\n",
    "omega_l = omega_l\n",
    "chi_a = omega_ea - omega_ga\n",
    "chi_b = omega_eb - omega_gb\n",
    "chi_c = omega_ec - omega_gc\n",
    "omega_qa = 2 * (S_a * omega_ea + S_l * omega_l) + (chi_a) / 2\n",
    "omega_qb = 2 * S_b * omega_eb + (chi_b) / 2\n",
    "omega_qc = 2 * S_c * omega_ec + (chi_c) / 2\n",
    "g_cd_a = np.sqrt(2 * S_a) * omega_ea\n",
    "g_cd_b = np.sqrt(2 * S_b) * omega_eb\n",
    "g_cd_c = np.sqrt(2 * S_c) * omega_ec\n",
    "g_cd_l = np.sqrt(2 * S_l) * omega_l\n",
    "g_ab = J_AB_0\n",
    "g_ac = J_AC_0\n",
    "g_abl = g_ab * eta_AB\n",
    "g_acl = g_ac * eta_AC\n",
    "g_a = g_cd_a / 2\n",
    "g_b = g_cd_b / 2\n",
    "g_c = g_cd_c / 2\n",
    "g_l = g_cd_l / 2\n",
    "delta_ab = omega_qa - omega_qb\n",
    "delta_ac = omega_qa - omega_qc\n",
    "\n",
    "\n",
    "planck = 6.62607015e-34\n",
    "planck = 1\n",
    "\n",
    "gammaA = 3.15          # qubit A amplitude damping\n",
    "gammaB = 3.15          # qubit B amplitude damping\n",
    "gammaC = 3.15          # qubit C amplitude damping\n",
    "kappa = 0.005       # cavity dissipation rate\n",
    "n_th_a = 0.0        # avg number of thermal bath excitation\n",
    "\n",
    "N = 2             # truncation level for the high frequency modes\n",
    "#Nl = N           # truncation level for the low frequency mode\n",
    "Nl = N*2           # truncation level for the low frequency mode\n",
    "\n",
    "timelist = np.linspace(0,2e-12,200)"
   ]
  },
  {
   "cell_type": "markdown",
   "metadata": {},
   "source": [
    "### Setup the operators, the Hamiltonian and initial state"
   ]
  },
  {
   "cell_type": "code",
   "execution_count": 4,
   "metadata": {
    "collapsed": true
   },
   "outputs": [],
   "source": [
    "# intial state, tensor product of three 2-level system and four bosonic modes.\n",
    "# The last bosonic mode being the low frequency mode l. From left to right are A, B, C\n",
    "psi0 = tensor(basis([2,2,2],[1,0,0]), basis([N,N,N,Nl],[0,0,0,0]))   \n",
    "# start with an excited molecule A, and the rest in ground state\n",
    "\n",
    "# identity operators\n",
    "Id_qub = tensor(qeye(2), qeye(2), qeye(2))\n",
    "Id_bos = tensor(qeye(N), qeye(N), qeye(N), qeye(Nl))\n",
    "\n",
    "# projected bosonic mode operators\n",
    "a_osc = tensor(destroy(N), qeye(N), qeye(N), qeye(Nl))\n",
    "b_osc = tensor(qeye(N), destroy(N), qeye(N), qeye(Nl))\n",
    "c_osc = tensor(qeye(N), qeye(N), destroy(N), qeye(Nl))\n",
    "l_osc = tensor(qeye(N), qeye(N), qeye(N), destroy(Nl))\n",
    "a  = tensor(Id_qub, a_osc)\n",
    "b  = tensor(Id_qub, b_osc)\n",
    "c  = tensor(Id_qub, c_osc)\n",
    "l  = tensor(Id_qub, l_osc)\n",
    "\n",
    "# qubit operators\n",
    "smA = tensor(destroy(2), qeye(2), qeye(2))\n",
    "smB = tensor(qeye(2), destroy(2), qeye(2))\n",
    "smC = tensor(qeye(2), qeye(2), destroy(2))\n",
    "sigma_xa_qub = tensor(sigmax(), qeye(2), qeye(2))\n",
    "sigma_xb_qub = tensor(qeye(2), sigmax(), qeye(2))\n",
    "sigma_xc_qub = tensor(qeye(2), qeye(2), sigmax())\n",
    "sigma_ya_qub = tensor(sigmay(), qeye(2), qeye(2))\n",
    "sigma_yb_qub = tensor(qeye(2), sigmay(), qeye(2))\n",
    "sigma_yc_qub = tensor(qeye(2), qeye(2), sigmay())\n",
    "sigma_za_qub = tensor(sigmaz(), qeye(2), qeye(2))\n",
    "sigma_zb_qub = tensor(qeye(2), sigmaz(), qeye(2))\n",
    "sigma_zc_qub = tensor(qeye(2), qeye(2), sigmaz())\n",
    "sigma_xa = tensor(sigma_xa_qub, Id_bos)\n",
    "sigma_xb = tensor(sigma_xb_qub, Id_bos)\n",
    "sigma_xc = tensor(sigma_xc_qub, Id_bos)\n",
    "sigma_ya = tensor(sigma_ya_qub, Id_bos)\n",
    "sigma_yb = tensor(sigma_yb_qub, Id_bos)\n",
    "sigma_yc = tensor(sigma_yc_qub, Id_bos)\n",
    "sigma_za = tensor(sigma_za_qub, Id_bos)\n",
    "sigma_zb = tensor(sigma_zb_qub, Id_bos)\n",
    "sigma_zc = tensor(sigma_zc_qub, Id_bos)\n",
    "\n",
    "\n",
    "# qubit states\n",
    "GroundState = basis([2,2,2],[0,0,0])\n",
    "eA = basis([2,2,2],[1,0,0])\n",
    "eB = basis([2,2,2],[0,1,0])\n",
    "eC = basis([2,2,2],[0,0,1])\n",
    "\n",
    "\n",
    "# Bosonic Hamiltonians\n",
    "H0 = (omega_a * a.dag() * a) + (omega_b * b.dag() * b) + (omega_c * c.dag() * c) + (omega_l * l.dag() * l) - (delta_ab * sigma_zb / 2) - (delta_ac * sigma_zc / 2)\n",
    "\n",
    "H1 = -(chi_a * a.dag() * a * sigma_za / 2) - (chi_b * b.dag() * b * sigma_zb / 2) - (chi_c * c.dag() * c * sigma_zc / 2)\n",
    "H1 = H1 - (g_cd_a * (a + a.dag()) * sigma_za / 2) - (g_cd_b * (b + b.dag()) * sigma_zb / 2) - (g_cd_c * (c + c.dag()) * sigma_zc / 2)\n",
    "\n",
    "H2XX = -(g_cd_l * (l + l.dag()) * sigma_za / 4) + (g_ab * (sigma_xa * sigma_xb) / 2) + (g_ac * (sigma_xa * sigma_xc) / 2) \n",
    "H2XX = H2XX - (g_abl * (sigma_xa * sigma_xb) * (l + l.dag()) / 2) + (g_acl * (sigma_xa * sigma_xc) * (l + l.dag()) / 2)\n",
    "\n",
    "H2YY = -(g_cd_l * (l + l.dag()) * sigma_za / 4) + (g_ab * (sigma_ya * sigma_yb) / 2) + (g_ac * (sigma_ya * sigma_yc) / 2) \n",
    "H2YY = H2YY - (g_abl * (sigma_ya * sigma_yb) * (l + l.dag()) / 2) + (g_acl * (sigma_ya * sigma_yc) * (l + l.dag()) / 2)\n",
    "\n",
    "\n",
    "# Total Hamiltonian (without  dissipation)\n",
    "Htot = (H0 + H1 + H2XX + H2YY) * planck"
   ]
  },
  {
   "cell_type": "markdown",
   "metadata": {},
   "source": [
    "### Create a list of collapse operators that describe the dissipation"
   ]
  },
  {
   "cell_type": "code",
   "execution_count": 5,
   "metadata": {
    "collapsed": true
   },
   "outputs": [
    {
     "data": {
      "text/plain": [
       "'c_ops = []\\n\\n# qubit relaxation, to model the last term in the chromophore Hamiltonian\\nrate = gammaA\\nif rate > 0.0:\\n    c_ops.append(tensor(sqrt(rate) * smA, Id_bos))\\n\\n    \\nrate = gammaB\\nif rate > 0.0:\\n    c_ops.append(tensor(sqrt(rate) * smB, Id_bos))\\n\\nrate = gammaC\\nif rate > 0.0:\\n    c_ops.append(tensor(sqrt(rate) * smC, Id_bos))\\n\\n\\n# Additional Cavity dissipation terms\\n# mode a relaxation\\nrate = kappa * (1 + n_th_a)\\nif rate > 0.0:\\n    c_ops.append(tensor(Id_qub, sqrt(rate) * a))\\n# mode a excitation, if temperature > 0\\nrate = kappa * n_th_a\\nif rate > 0.0:\\n    c_ops.append(tensor(Id_qub, sqrt(rate) * a.dag()))\\n    \\n# mode b relaxation\\nrate = kappa * (1 + n_th_a)\\nif rate > 0.0:\\n    c_ops.append(tensor(Id_qub, sqrt(rate) * b))\\n# mode b excitation, if temperature > 0\\nrate = kappa * n_th_a\\nif rate > 0.0:\\n    c_ops.append(tensor(Id_qub, sqrt(rate) * b.dag()))\\n\\n\\n# mode c relaxation\\nrate = kappa * (1 + n_th_a)\\nif rate > 0.0:\\n    c_ops.append(tensor(Id_qub, sqrt(rate) * c))\\n# mode c excitation, if temperature > 0\\nrate = kappa * n_th_a\\nif rate > 0.0:\\n    c_ops.append(tensor(Id_qub, sqrt(rate) * c.dag()))\\n\\n    \\n# mode l relaxation\\nrate = kappa * (1 + n_th_a)\\nif rate > 0.0:\\n    c_ops.append(tensor(Id_qub, sqrt(rate) * l))\\n# mode l excitation, if temperature > 0\\nrate = kappa * n_th_a\\nif rate > 0.0:\\n    c_ops.append(tensor(Id_qub, sqrt(rate) * l.dag()))\\n\\n'"
      ]
     },
     "execution_count": 5,
     "metadata": {},
     "output_type": "execute_result"
    }
   ],
   "source": [
    "'''c_ops = []\n",
    "\n",
    "# qubit relaxation, to model the last term in the chromophore Hamiltonian\n",
    "rate = gammaA\n",
    "if rate > 0.0:\n",
    "    c_ops.append(tensor(sqrt(rate) * smA, Id_bos))\n",
    "\n",
    "    \n",
    "rate = gammaB\n",
    "if rate > 0.0:\n",
    "    c_ops.append(tensor(sqrt(rate) * smB, Id_bos))\n",
    "\n",
    "rate = gammaC\n",
    "if rate > 0.0:\n",
    "    c_ops.append(tensor(sqrt(rate) * smC, Id_bos))\n",
    "\n",
    "\n",
    "# Additional Cavity dissipation terms\n",
    "# mode a relaxation\n",
    "rate = kappa * (1 + n_th_a)\n",
    "if rate > 0.0:\n",
    "    c_ops.append(tensor(Id_qub, sqrt(rate) * a))\n",
    "# mode a excitation, if temperature > 0\n",
    "rate = kappa * n_th_a\n",
    "if rate > 0.0:\n",
    "    c_ops.append(tensor(Id_qub, sqrt(rate) * a.dag()))\n",
    "    \n",
    "# mode b relaxation\n",
    "rate = kappa * (1 + n_th_a)\n",
    "if rate > 0.0:\n",
    "    c_ops.append(tensor(Id_qub, sqrt(rate) * b))\n",
    "# mode b excitation, if temperature > 0\n",
    "rate = kappa * n_th_a\n",
    "if rate > 0.0:\n",
    "    c_ops.append(tensor(Id_qub, sqrt(rate) * b.dag()))\n",
    "\n",
    "\n",
    "# mode c relaxation\n",
    "rate = kappa * (1 + n_th_a)\n",
    "if rate > 0.0:\n",
    "    c_ops.append(tensor(Id_qub, sqrt(rate) * c))\n",
    "# mode c excitation, if temperature > 0\n",
    "rate = kappa * n_th_a\n",
    "if rate > 0.0:\n",
    "    c_ops.append(tensor(Id_qub, sqrt(rate) * c.dag()))\n",
    "\n",
    "    \n",
    "# mode l relaxation\n",
    "rate = kappa * (1 + n_th_a)\n",
    "if rate > 0.0:\n",
    "    c_ops.append(tensor(Id_qub, sqrt(rate) * l))\n",
    "# mode l excitation, if temperature > 0\n",
    "rate = kappa * n_th_a\n",
    "if rate > 0.0:\n",
    "    c_ops.append(tensor(Id_qub, sqrt(rate) * l.dag()))\n",
    "\n",
    "'''"
   ]
  },
  {
   "cell_type": "markdown",
   "metadata": {},
   "source": [
    "### Evolve the system\n",
    "\n",
    "Here we evolve the system with the Lindblad master equation solver or the Monte Carlo solver, and we request that the expectation values of the operators $a^\\dagger a$ and $\\sigma_{+,A}\\sigma_{-,A}$ are returned by the solver."
   ]
  },
  {
   "cell_type": "code",
   "execution_count": 6,
   "metadata": {},
   "outputs": [
    {
     "name": "stderr",
     "output_type": "stream",
     "text": [
      "C:\\Users\\danie\\AppData\\Local\\Packages\\PythonSoftwareFoundation.Python.3.10_qbz5n2kfra8p0\\LocalCache\\local-packages\\Python310\\site-packages\\qutip\\solver\\options.py:16: FutureWarning: Dedicated options class are no longer needed, options should be passed as dict to solvers.\n",
      "  warnings.warn(\n"
     ]
    }
   ],
   "source": [
    "# Monte Carlo Solver\n",
    "#ntraj = [1, 5, 15, 904] # list of number of trajectories to avg. over\n",
    "#ntraj = [1] # list of number of trajectories to avg. over\n",
    "#output = mcsolve(Htot, psi0, tlist, c_ops, [tensor(Id_qub, a.dag() * a), tensor(smA.dag() * smA, Id_bos)], ntraj)\n",
    "\n",
    "# Lindblad Master Equation Solver\n",
    "c_ops = []\n",
    "output = mesolve(Htot, psi0, timelist, c_ops, [tensor(Id_qub, a_osc.dag() * a_osc), tensor(Id_qub, b_osc.dag() * b_osc), \n",
    "                                         tensor(Id_qub, c_osc.dag() * c_osc), tensor(Id_qub, l_osc.dag() * l_osc), \n",
    "                                         tensor(smA.dag() * smA, Id_bos), \n",
    "                                         tensor(smB.dag() * smB, Id_bos), \n",
    "                                         tensor(smC.dag() * smC, Id_bos)],\n",
    "                 options=Options(nsteps=30000))"
   ]
  },
  {
   "cell_type": "markdown",
   "metadata": {},
   "source": [
    "## Visualize the results\n",
    "\n",
    "Here we plot the excitation probabilities of the mode and the qubit (these expectation values were calculated by the `mesolve` above)."
   ]
  },
  {
   "cell_type": "code",
   "execution_count": 7,
   "metadata": {},
   "outputs": [
    {
     "ename": "FileNotFoundError",
     "evalue": "[Errno 2] No such file or directory: 'data/final/10000shots_updated/nodamping.out'",
     "output_type": "error",
     "traceback": [
      "\u001b[1;31m---------------------------------------------------------------------------\u001b[0m",
      "\u001b[1;31mFileNotFoundError\u001b[0m                         Traceback (most recent call last)",
      "Cell \u001b[1;32mIn[7], line 12\u001b[0m\n\u001b[0;32m      9\u001b[0m fig, axes \u001b[38;5;241m=\u001b[39m plt\u001b[38;5;241m.\u001b[39msubplots(\u001b[38;5;241m1\u001b[39m, \u001b[38;5;241m1\u001b[39m, figsize\u001b[38;5;241m=\u001b[39m(\u001b[38;5;241m10\u001b[39m,\u001b[38;5;241m6\u001b[39m))\n\u001b[0;32m     11\u001b[0m data_file \u001b[38;5;241m=\u001b[39m \u001b[38;5;124m'\u001b[39m\u001b[38;5;124mdata/final/10000shots_updated/nodamping.out\u001b[39m\u001b[38;5;124m'\u001b[39m\n\u001b[1;32m---> 12\u001b[0m df \u001b[38;5;241m=\u001b[39m \u001b[43mpd\u001b[49m\u001b[38;5;241;43m.\u001b[39;49m\u001b[43mread_csv\u001b[49m\u001b[43m(\u001b[49m\u001b[43mdata_file\u001b[49m\u001b[43m,\u001b[49m\u001b[43m \u001b[49m\u001b[43mdelimiter\u001b[49m\u001b[38;5;241;43m=\u001b[39;49m\u001b[38;5;124;43m'\u001b[39;49m\u001b[38;5;124;43m\\\u001b[39;49m\u001b[38;5;124;43ms*\u001b[39;49m\u001b[38;5;124;43m\\\u001b[39;49m\u001b[38;5;124;43m(|[\u001b[39;49m\u001b[38;5;124;43m\\\u001b[39;49m\u001b[38;5;124;43m+-]\u001b[39;49m\u001b[38;5;124;43m\\\u001b[39;49m\u001b[38;5;124;43md\u001b[39;49m\u001b[38;5;124;43m\\\u001b[39;49m\u001b[38;5;124;43m.\u001b[39;49m\u001b[38;5;124;43m\\\u001b[39;49m\u001b[38;5;124;43md+e[\u001b[39;49m\u001b[38;5;124;43m\\\u001b[39;49m\u001b[38;5;124;43m+-]\u001b[39;49m\u001b[38;5;124;43m\\\u001b[39;49m\u001b[38;5;124;43md+j\u001b[39;49m\u001b[38;5;124;43m\\\u001b[39;49m\u001b[38;5;124;43m) *\u001b[39;49m\u001b[38;5;124;43m\\\u001b[39;49m\u001b[38;5;124;43m(|[\u001b[39;49m\u001b[38;5;124;43m\\\u001b[39;49m\u001b[38;5;124;43m+-]\u001b[39;49m\u001b[38;5;124;43m\\\u001b[39;49m\u001b[38;5;124;43md\u001b[39;49m\u001b[38;5;124;43m\\\u001b[39;49m\u001b[38;5;124;43m.\u001b[39;49m\u001b[38;5;124;43m\\\u001b[39;49m\u001b[38;5;124;43md+e[\u001b[39;49m\u001b[38;5;124;43m\\\u001b[39;49m\u001b[38;5;124;43m+-]\u001b[39;49m\u001b[38;5;124;43m\\\u001b[39;49m\u001b[38;5;124;43md+j\u001b[39;49m\u001b[38;5;124;43m\\\u001b[39;49m\u001b[38;5;124;43m)\u001b[39;49m\u001b[38;5;124;43m'\u001b[39;49m\u001b[43m,\u001b[49m\u001b[43m \u001b[49m\u001b[43mengine\u001b[49m\u001b[43m \u001b[49m\u001b[38;5;241;43m=\u001b[39;49m\u001b[43m \u001b[49m\u001b[38;5;124;43m'\u001b[39;49m\u001b[38;5;124;43mpython\u001b[39;49m\u001b[38;5;124;43m'\u001b[39;49m\u001b[43m)\u001b[49m\n\u001b[0;32m     13\u001b[0m df\u001b[38;5;241m.\u001b[39mdrop(columns\u001b[38;5;241m=\u001b[39mdf\u001b[38;5;241m.\u001b[39mcolumns[\u001b[38;5;241m0\u001b[39m], axis\u001b[38;5;241m=\u001b[39m\u001b[38;5;241m1\u001b[39m, inplace\u001b[38;5;241m=\u001b[39m\u001b[38;5;28;01mTrue\u001b[39;00m)\n\u001b[0;32m     14\u001b[0m df\u001b[38;5;241m.\u001b[39mdrop(columns\u001b[38;5;241m=\u001b[39mdf\u001b[38;5;241m.\u001b[39mcolumns[\u001b[38;5;28mlen\u001b[39m(df\u001b[38;5;241m.\u001b[39mcolumns)\u001b[38;5;241m-\u001b[39m\u001b[38;5;241m1\u001b[39m], axis\u001b[38;5;241m=\u001b[39m\u001b[38;5;241m1\u001b[39m, inplace\u001b[38;5;241m=\u001b[39m\u001b[38;5;28;01mTrue\u001b[39;00m)\n",
      "File \u001b[1;32m~\\AppData\\Local\\Packages\\PythonSoftwareFoundation.Python.3.10_qbz5n2kfra8p0\\LocalCache\\local-packages\\Python310\\site-packages\\pandas\\util\\_decorators.py:311\u001b[0m, in \u001b[0;36mdeprecate_nonkeyword_arguments.<locals>.decorate.<locals>.wrapper\u001b[1;34m(*args, **kwargs)\u001b[0m\n\u001b[0;32m    305\u001b[0m \u001b[38;5;28;01mif\u001b[39;00m \u001b[38;5;28mlen\u001b[39m(args) \u001b[38;5;241m>\u001b[39m num_allow_args:\n\u001b[0;32m    306\u001b[0m     warnings\u001b[38;5;241m.\u001b[39mwarn(\n\u001b[0;32m    307\u001b[0m         msg\u001b[38;5;241m.\u001b[39mformat(arguments\u001b[38;5;241m=\u001b[39marguments),\n\u001b[0;32m    308\u001b[0m         \u001b[38;5;167;01mFutureWarning\u001b[39;00m,\n\u001b[0;32m    309\u001b[0m         stacklevel\u001b[38;5;241m=\u001b[39mstacklevel,\n\u001b[0;32m    310\u001b[0m     )\n\u001b[1;32m--> 311\u001b[0m \u001b[38;5;28;01mreturn\u001b[39;00m func(\u001b[38;5;241m*\u001b[39margs, \u001b[38;5;241m*\u001b[39m\u001b[38;5;241m*\u001b[39mkwargs)\n",
      "File \u001b[1;32m~\\AppData\\Local\\Packages\\PythonSoftwareFoundation.Python.3.10_qbz5n2kfra8p0\\LocalCache\\local-packages\\Python310\\site-packages\\pandas\\io\\parsers\\readers.py:678\u001b[0m, in \u001b[0;36mread_csv\u001b[1;34m(filepath_or_buffer, sep, delimiter, header, names, index_col, usecols, squeeze, prefix, mangle_dupe_cols, dtype, engine, converters, true_values, false_values, skipinitialspace, skiprows, skipfooter, nrows, na_values, keep_default_na, na_filter, verbose, skip_blank_lines, parse_dates, infer_datetime_format, keep_date_col, date_parser, dayfirst, cache_dates, iterator, chunksize, compression, thousands, decimal, lineterminator, quotechar, quoting, doublequote, escapechar, comment, encoding, encoding_errors, dialect, error_bad_lines, warn_bad_lines, on_bad_lines, delim_whitespace, low_memory, memory_map, float_precision, storage_options)\u001b[0m\n\u001b[0;32m    663\u001b[0m kwds_defaults \u001b[38;5;241m=\u001b[39m _refine_defaults_read(\n\u001b[0;32m    664\u001b[0m     dialect,\n\u001b[0;32m    665\u001b[0m     delimiter,\n\u001b[1;32m   (...)\u001b[0m\n\u001b[0;32m    674\u001b[0m     defaults\u001b[38;5;241m=\u001b[39m{\u001b[38;5;124m\"\u001b[39m\u001b[38;5;124mdelimiter\u001b[39m\u001b[38;5;124m\"\u001b[39m: \u001b[38;5;124m\"\u001b[39m\u001b[38;5;124m,\u001b[39m\u001b[38;5;124m\"\u001b[39m},\n\u001b[0;32m    675\u001b[0m )\n\u001b[0;32m    676\u001b[0m kwds\u001b[38;5;241m.\u001b[39mupdate(kwds_defaults)\n\u001b[1;32m--> 678\u001b[0m \u001b[38;5;28;01mreturn\u001b[39;00m \u001b[43m_read\u001b[49m\u001b[43m(\u001b[49m\u001b[43mfilepath_or_buffer\u001b[49m\u001b[43m,\u001b[49m\u001b[43m \u001b[49m\u001b[43mkwds\u001b[49m\u001b[43m)\u001b[49m\n",
      "File \u001b[1;32m~\\AppData\\Local\\Packages\\PythonSoftwareFoundation.Python.3.10_qbz5n2kfra8p0\\LocalCache\\local-packages\\Python310\\site-packages\\pandas\\io\\parsers\\readers.py:575\u001b[0m, in \u001b[0;36m_read\u001b[1;34m(filepath_or_buffer, kwds)\u001b[0m\n\u001b[0;32m    572\u001b[0m _validate_names(kwds\u001b[38;5;241m.\u001b[39mget(\u001b[38;5;124m\"\u001b[39m\u001b[38;5;124mnames\u001b[39m\u001b[38;5;124m\"\u001b[39m, \u001b[38;5;28;01mNone\u001b[39;00m))\n\u001b[0;32m    574\u001b[0m \u001b[38;5;66;03m# Create the parser.\u001b[39;00m\n\u001b[1;32m--> 575\u001b[0m parser \u001b[38;5;241m=\u001b[39m TextFileReader(filepath_or_buffer, \u001b[38;5;241m*\u001b[39m\u001b[38;5;241m*\u001b[39mkwds)\n\u001b[0;32m    577\u001b[0m \u001b[38;5;28;01mif\u001b[39;00m chunksize \u001b[38;5;129;01mor\u001b[39;00m iterator:\n\u001b[0;32m    578\u001b[0m     \u001b[38;5;28;01mreturn\u001b[39;00m parser\n",
      "File \u001b[1;32m~\\AppData\\Local\\Packages\\PythonSoftwareFoundation.Python.3.10_qbz5n2kfra8p0\\LocalCache\\local-packages\\Python310\\site-packages\\pandas\\io\\parsers\\readers.py:932\u001b[0m, in \u001b[0;36mTextFileReader.__init__\u001b[1;34m(self, f, engine, **kwds)\u001b[0m\n\u001b[0;32m    929\u001b[0m     \u001b[38;5;28mself\u001b[39m\u001b[38;5;241m.\u001b[39moptions[\u001b[38;5;124m\"\u001b[39m\u001b[38;5;124mhas_index_names\u001b[39m\u001b[38;5;124m\"\u001b[39m] \u001b[38;5;241m=\u001b[39m kwds[\u001b[38;5;124m\"\u001b[39m\u001b[38;5;124mhas_index_names\u001b[39m\u001b[38;5;124m\"\u001b[39m]\n\u001b[0;32m    931\u001b[0m \u001b[38;5;28mself\u001b[39m\u001b[38;5;241m.\u001b[39mhandles: IOHandles \u001b[38;5;241m|\u001b[39m \u001b[38;5;28;01mNone\u001b[39;00m \u001b[38;5;241m=\u001b[39m \u001b[38;5;28;01mNone\u001b[39;00m\n\u001b[1;32m--> 932\u001b[0m \u001b[38;5;28mself\u001b[39m\u001b[38;5;241m.\u001b[39m_engine \u001b[38;5;241m=\u001b[39m \u001b[38;5;28;43mself\u001b[39;49m\u001b[38;5;241;43m.\u001b[39;49m\u001b[43m_make_engine\u001b[49m\u001b[43m(\u001b[49m\u001b[43mf\u001b[49m\u001b[43m,\u001b[49m\u001b[43m \u001b[49m\u001b[38;5;28;43mself\u001b[39;49m\u001b[38;5;241;43m.\u001b[39;49m\u001b[43mengine\u001b[49m\u001b[43m)\u001b[49m\n",
      "File \u001b[1;32m~\\AppData\\Local\\Packages\\PythonSoftwareFoundation.Python.3.10_qbz5n2kfra8p0\\LocalCache\\local-packages\\Python310\\site-packages\\pandas\\io\\parsers\\readers.py:1216\u001b[0m, in \u001b[0;36mTextFileReader._make_engine\u001b[1;34m(self, f, engine)\u001b[0m\n\u001b[0;32m   1212\u001b[0m     mode \u001b[38;5;241m=\u001b[39m \u001b[38;5;124m\"\u001b[39m\u001b[38;5;124mrb\u001b[39m\u001b[38;5;124m\"\u001b[39m\n\u001b[0;32m   1213\u001b[0m \u001b[38;5;66;03m# error: No overload variant of \"get_handle\" matches argument types\u001b[39;00m\n\u001b[0;32m   1214\u001b[0m \u001b[38;5;66;03m# \"Union[str, PathLike[str], ReadCsvBuffer[bytes], ReadCsvBuffer[str]]\"\u001b[39;00m\n\u001b[0;32m   1215\u001b[0m \u001b[38;5;66;03m# , \"str\", \"bool\", \"Any\", \"Any\", \"Any\", \"Any\", \"Any\"\u001b[39;00m\n\u001b[1;32m-> 1216\u001b[0m \u001b[38;5;28mself\u001b[39m\u001b[38;5;241m.\u001b[39mhandles \u001b[38;5;241m=\u001b[39m \u001b[43mget_handle\u001b[49m\u001b[43m(\u001b[49m\u001b[43m  \u001b[49m\u001b[38;5;66;43;03m# type: ignore[call-overload]\u001b[39;49;00m\n\u001b[0;32m   1217\u001b[0m \u001b[43m    \u001b[49m\u001b[43mf\u001b[49m\u001b[43m,\u001b[49m\n\u001b[0;32m   1218\u001b[0m \u001b[43m    \u001b[49m\u001b[43mmode\u001b[49m\u001b[43m,\u001b[49m\n\u001b[0;32m   1219\u001b[0m \u001b[43m    \u001b[49m\u001b[43mencoding\u001b[49m\u001b[38;5;241;43m=\u001b[39;49m\u001b[38;5;28;43mself\u001b[39;49m\u001b[38;5;241;43m.\u001b[39;49m\u001b[43moptions\u001b[49m\u001b[38;5;241;43m.\u001b[39;49m\u001b[43mget\u001b[49m\u001b[43m(\u001b[49m\u001b[38;5;124;43m\"\u001b[39;49m\u001b[38;5;124;43mencoding\u001b[39;49m\u001b[38;5;124;43m\"\u001b[39;49m\u001b[43m,\u001b[49m\u001b[43m \u001b[49m\u001b[38;5;28;43;01mNone\u001b[39;49;00m\u001b[43m)\u001b[49m\u001b[43m,\u001b[49m\n\u001b[0;32m   1220\u001b[0m \u001b[43m    \u001b[49m\u001b[43mcompression\u001b[49m\u001b[38;5;241;43m=\u001b[39;49m\u001b[38;5;28;43mself\u001b[39;49m\u001b[38;5;241;43m.\u001b[39;49m\u001b[43moptions\u001b[49m\u001b[38;5;241;43m.\u001b[39;49m\u001b[43mget\u001b[49m\u001b[43m(\u001b[49m\u001b[38;5;124;43m\"\u001b[39;49m\u001b[38;5;124;43mcompression\u001b[39;49m\u001b[38;5;124;43m\"\u001b[39;49m\u001b[43m,\u001b[49m\u001b[43m \u001b[49m\u001b[38;5;28;43;01mNone\u001b[39;49;00m\u001b[43m)\u001b[49m\u001b[43m,\u001b[49m\n\u001b[0;32m   1221\u001b[0m \u001b[43m    \u001b[49m\u001b[43mmemory_map\u001b[49m\u001b[38;5;241;43m=\u001b[39;49m\u001b[38;5;28;43mself\u001b[39;49m\u001b[38;5;241;43m.\u001b[39;49m\u001b[43moptions\u001b[49m\u001b[38;5;241;43m.\u001b[39;49m\u001b[43mget\u001b[49m\u001b[43m(\u001b[49m\u001b[38;5;124;43m\"\u001b[39;49m\u001b[38;5;124;43mmemory_map\u001b[39;49m\u001b[38;5;124;43m\"\u001b[39;49m\u001b[43m,\u001b[49m\u001b[43m \u001b[49m\u001b[38;5;28;43;01mFalse\u001b[39;49;00m\u001b[43m)\u001b[49m\u001b[43m,\u001b[49m\n\u001b[0;32m   1222\u001b[0m \u001b[43m    \u001b[49m\u001b[43mis_text\u001b[49m\u001b[38;5;241;43m=\u001b[39;49m\u001b[43mis_text\u001b[49m\u001b[43m,\u001b[49m\n\u001b[0;32m   1223\u001b[0m \u001b[43m    \u001b[49m\u001b[43merrors\u001b[49m\u001b[38;5;241;43m=\u001b[39;49m\u001b[38;5;28;43mself\u001b[39;49m\u001b[38;5;241;43m.\u001b[39;49m\u001b[43moptions\u001b[49m\u001b[38;5;241;43m.\u001b[39;49m\u001b[43mget\u001b[49m\u001b[43m(\u001b[49m\u001b[38;5;124;43m\"\u001b[39;49m\u001b[38;5;124;43mencoding_errors\u001b[39;49m\u001b[38;5;124;43m\"\u001b[39;49m\u001b[43m,\u001b[49m\u001b[43m \u001b[49m\u001b[38;5;124;43m\"\u001b[39;49m\u001b[38;5;124;43mstrict\u001b[39;49m\u001b[38;5;124;43m\"\u001b[39;49m\u001b[43m)\u001b[49m\u001b[43m,\u001b[49m\n\u001b[0;32m   1224\u001b[0m \u001b[43m    \u001b[49m\u001b[43mstorage_options\u001b[49m\u001b[38;5;241;43m=\u001b[39;49m\u001b[38;5;28;43mself\u001b[39;49m\u001b[38;5;241;43m.\u001b[39;49m\u001b[43moptions\u001b[49m\u001b[38;5;241;43m.\u001b[39;49m\u001b[43mget\u001b[49m\u001b[43m(\u001b[49m\u001b[38;5;124;43m\"\u001b[39;49m\u001b[38;5;124;43mstorage_options\u001b[39;49m\u001b[38;5;124;43m\"\u001b[39;49m\u001b[43m,\u001b[49m\u001b[43m \u001b[49m\u001b[38;5;28;43;01mNone\u001b[39;49;00m\u001b[43m)\u001b[49m\u001b[43m,\u001b[49m\n\u001b[0;32m   1225\u001b[0m \u001b[43m\u001b[49m\u001b[43m)\u001b[49m\n\u001b[0;32m   1226\u001b[0m \u001b[38;5;28;01massert\u001b[39;00m \u001b[38;5;28mself\u001b[39m\u001b[38;5;241m.\u001b[39mhandles \u001b[38;5;129;01mis\u001b[39;00m \u001b[38;5;129;01mnot\u001b[39;00m \u001b[38;5;28;01mNone\u001b[39;00m\n\u001b[0;32m   1227\u001b[0m f \u001b[38;5;241m=\u001b[39m \u001b[38;5;28mself\u001b[39m\u001b[38;5;241m.\u001b[39mhandles\u001b[38;5;241m.\u001b[39mhandle\n",
      "File \u001b[1;32m~\\AppData\\Local\\Packages\\PythonSoftwareFoundation.Python.3.10_qbz5n2kfra8p0\\LocalCache\\local-packages\\Python310\\site-packages\\pandas\\io\\common.py:786\u001b[0m, in \u001b[0;36mget_handle\u001b[1;34m(path_or_buf, mode, encoding, compression, memory_map, is_text, errors, storage_options)\u001b[0m\n\u001b[0;32m    781\u001b[0m \u001b[38;5;28;01melif\u001b[39;00m \u001b[38;5;28misinstance\u001b[39m(handle, \u001b[38;5;28mstr\u001b[39m):\n\u001b[0;32m    782\u001b[0m     \u001b[38;5;66;03m# Check whether the filename is to be opened in binary mode.\u001b[39;00m\n\u001b[0;32m    783\u001b[0m     \u001b[38;5;66;03m# Binary mode does not support 'encoding' and 'newline'.\u001b[39;00m\n\u001b[0;32m    784\u001b[0m     \u001b[38;5;28;01mif\u001b[39;00m ioargs\u001b[38;5;241m.\u001b[39mencoding \u001b[38;5;129;01mand\u001b[39;00m \u001b[38;5;124m\"\u001b[39m\u001b[38;5;124mb\u001b[39m\u001b[38;5;124m\"\u001b[39m \u001b[38;5;129;01mnot\u001b[39;00m \u001b[38;5;129;01min\u001b[39;00m ioargs\u001b[38;5;241m.\u001b[39mmode:\n\u001b[0;32m    785\u001b[0m         \u001b[38;5;66;03m# Encoding\u001b[39;00m\n\u001b[1;32m--> 786\u001b[0m         handle \u001b[38;5;241m=\u001b[39m \u001b[38;5;28;43mopen\u001b[39;49m\u001b[43m(\u001b[49m\n\u001b[0;32m    787\u001b[0m \u001b[43m            \u001b[49m\u001b[43mhandle\u001b[49m\u001b[43m,\u001b[49m\n\u001b[0;32m    788\u001b[0m \u001b[43m            \u001b[49m\u001b[43mioargs\u001b[49m\u001b[38;5;241;43m.\u001b[39;49m\u001b[43mmode\u001b[49m\u001b[43m,\u001b[49m\n\u001b[0;32m    789\u001b[0m \u001b[43m            \u001b[49m\u001b[43mencoding\u001b[49m\u001b[38;5;241;43m=\u001b[39;49m\u001b[43mioargs\u001b[49m\u001b[38;5;241;43m.\u001b[39;49m\u001b[43mencoding\u001b[49m\u001b[43m,\u001b[49m\n\u001b[0;32m    790\u001b[0m \u001b[43m            \u001b[49m\u001b[43merrors\u001b[49m\u001b[38;5;241;43m=\u001b[39;49m\u001b[43merrors\u001b[49m\u001b[43m,\u001b[49m\n\u001b[0;32m    791\u001b[0m \u001b[43m            \u001b[49m\u001b[43mnewline\u001b[49m\u001b[38;5;241;43m=\u001b[39;49m\u001b[38;5;124;43m\"\u001b[39;49m\u001b[38;5;124;43m\"\u001b[39;49m\u001b[43m,\u001b[49m\n\u001b[0;32m    792\u001b[0m \u001b[43m        \u001b[49m\u001b[43m)\u001b[49m\n\u001b[0;32m    793\u001b[0m     \u001b[38;5;28;01melse\u001b[39;00m:\n\u001b[0;32m    794\u001b[0m         \u001b[38;5;66;03m# Binary mode\u001b[39;00m\n\u001b[0;32m    795\u001b[0m         handle \u001b[38;5;241m=\u001b[39m \u001b[38;5;28mopen\u001b[39m(handle, ioargs\u001b[38;5;241m.\u001b[39mmode)\n",
      "\u001b[1;31mFileNotFoundError\u001b[0m: [Errno 2] No such file or directory: 'data/final/10000shots_updated/nodamping.out'"
     ]
    },
    {
     "data": {
      "image/png": "[encoded data removed]",
      "text/plain": [
       "<Figure size 1000x600 with 1 Axes>"
      ]
     },
     "metadata": {},
     "output_type": "display_data"
    }
   ],
   "source": [
    "n_a = output.expect[0]\n",
    "n_b = output.expect[1]\n",
    "n_c = output.expect[2]\n",
    "n_l = output.expect[3]\n",
    "n_A = output.expect[4]\n",
    "n_B = output.expect[5]\n",
    "n_C = output.expect[6]\n",
    "\n",
    "fig, axes = plt.subplots(1, 1, figsize=(10,6))\n",
    "\n",
    "data_file = 'data/final/10000shots_updated/nodamping.out'\n",
    "df = pd.read_csv(data_file, delimiter='\\s*\\(|[\\+-]\\d\\.\\d+e[\\+-]\\d+j\\) *\\(|[\\+-]\\d\\.\\d+e[\\+-]\\d+j\\)', engine = 'python')\n",
    "df.drop(columns=df.columns[0], axis=1, inplace=True)\n",
    "df.drop(columns=df.columns[len(df.columns)-1], axis=1, inplace=True)\n",
    "df.columns = df.columns.map(float)\n",
    "data = df.to_numpy()\n",
    "columns = df.columns.to_numpy()\n",
    "columns = columns / 1e12\n",
    "axes.plot(columns, data[0], '--', label=\"Simulated Chromophore A\", color='#0085ec')\n",
    "axes.plot(columns, data[1], '--', label=\"Simulated Chromophore B\", color='#fa8f00')\n",
    "axes.plot(columns, data[2], '--', label=\"Simulated Chromophore C\", color='#008a02')\n",
    "\n",
    "\n",
    "#axes.plot(tlist, n_a, '--', label=\"Mode a\")\n",
    "#axes.plot(tlist, n_b, '--', label=\"Mode b\")\n",
    "#axes.plot(tlist, n_c, '--', label=\"Mode c\")\n",
    "#axes.plot(tlist, n_l, '--', label=\"Mode l\")\n",
    "\n",
    "axes.plot(timelist, n_A, label=\"Exact Chromophore A\", color='#0065b4')\n",
    "axes.plot(timelist, n_B, label=\"Exact Chromophore B\", color='#d07700')\n",
    "axes.plot(timelist, n_C, label=\"Exact Chromophore C\", color='#006802')\n",
    "axes.legend(loc=0)\n",
    "axes.set_xlabel('Time (s)')\n",
    "axes.set_ylabel('Concentration')\n",
    "axes.set_title('Population Dynamics in the Excited State')\n",
    "#plt.grid()\n",
    "plt.savefig('exact\\ runs/test.png', dpi=300)"
   ]
  },
  {
   "cell_type": "code",
   "execution_count": 64,
   "metadata": {},
   "outputs": [
    {
     "data": {
      "text/html": [
       "<table><tr><th>Software</th><th>Version</th></tr><tr><td>QuTiP</td><td>5.0.1</td></tr><tr><td>Numpy</td><td>1.23.2</td></tr><tr><td>SciPy</td><td>1.9.1</td></tr><tr><td>matplotlib</td><td>3.5.3</td></tr><tr><td>Number of CPUs</td><td>16</td></tr><tr><td>BLAS Info</td><td>OPENBLAS</td></tr><tr><td>IPython</td><td>8.18.0</td></tr><tr><td>Python</td><td>3.10.11 (tags/v3.10.11:7d4cc5a, Apr  5 2023, 00:38:17) [MSC v.1929 64 bit (AMD64)]</td></tr><tr><td>OS</td><td>nt [win32]</td></tr><tr><td colspan='2'>Tue May 21 21:19:19 2024 Eastern Daylight Time</td></tr></table>"
      ],
      "text/plain": [
       "<IPython.core.display.HTML object>"
      ]
     },
     "execution_count": 64,
     "metadata": {},
     "output_type": "execute_result"
    }
   ],
   "source": [
    "from qutip.ipynbtools import version_table\n",
    "\n",
    "version_table()"
   ]
  },
  {
   "cell_type": "code",
   "execution_count": null,
   "metadata": {
    "collapsed": true
   },
   "outputs": [],
   "source": []
  },
  {
   "cell_type": "code",
   "execution_count": null,
   "metadata": {},
   "outputs": [],
   "source": []
  }
 ],
 "metadata": {
  "kernelspec": {
   "display_name": "Python 3",
   "language": "python",
   "name": "python3"
  },
  "language_info": {
   "codemirror_mode": {
    "name": "ipython",
    "version": 3
   },
   "file_extension": ".py",
   "mimetype": "text/x-python",
   "name": "python",
   "nbconvert_exporter": "python",
   "pygments_lexer": "ipython3",
   "version": "3.10.11"
  }
 },
 "nbformat": 4,
 "nbformat_minor": 1
}
